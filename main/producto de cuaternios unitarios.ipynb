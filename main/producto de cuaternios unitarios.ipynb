{
 "cells": [
  {
   "cell_type": "code",
   "execution_count": 15,
   "metadata": {},
   "outputs": [
    {
     "name": "stdout",
     "output_type": "stream",
     "text": [
      "[cos(δ₁/2), 1.0*sin(δ₁/2), -2.44929359829471e-16*sin(δ₁/2), 0] x [cos(δ₂/2), sin(δ₂/2)*cos(2*α₂), sin(2*α₂)*sin(δ₂/2), 0] = [2.44929359829471e-16*sin(2*α₂)*sin(δ₁/2)*sin(δ₂/2) - 1.0*sin(δ₁/2)*sin(δ₂/2)*cos(2*α₂) + cos(δ₁/2)*cos(δ₂/2)\n",
      " 1.0*sin(δ₁/2)*cos(δ₂/2) + sin(δ₂/2)*cos(2*α₂)*cos(δ₁/2)\n",
      " sin(2*α₂)*sin(δ₂/2)*cos(δ₁/2) - 2.44929359829471e-16*sin(δ₁/2)*cos(δ₂/2)\n",
      " 1.0*sin(2*α₂)*sin(δ₁/2)*sin(δ₂/2) + 2.44929359829471e-16*sin(δ₁/2)*sin(δ₂/2)*cos(2*α₂)]\n"
     ]
    }
   ],
   "source": [
    "from sympy import *\n",
    "from sympy.plotting import plot\n",
    "from sympy import symbols\n",
    "from sympy.plotting import plot3d_parametric_line\n",
    "from sympy import nsolve\n",
    "\n",
    "import numpy as np\n",
    "init_printing()\n",
    "from mpl_toolkits.mplot3d import Axes3D\n",
    "import matplotlib.pyplot as plt\n",
    "import matplotlib.cm as cm\n",
    "import matplotlib as mpl\n",
    "import pandas as pd\n",
    "\n",
    "from sympy import symbols\n",
    "alfa1,chi1,alfa2,chi2,gamma,delta1,delta2 = symbols(r' α₁ χ₁ α₂ χ₂ γ δ₁ δ₂')\n",
    "\n",
    "def quaternion_multiply(Q0,Q1):\n",
    "    \"\"\"\n",
    "    Multiplies two quaternions.\n",
    " \n",
    "    Input\n",
    "    :param Q0: A 4 element array containing the first quaternion (q01,q11,q21,q31) \n",
    "    :param Q1: A 4 element array containing the second quaternion (q02,q12,q22,q32) \n",
    " \n",
    "    Output\n",
    "    :return: A 4 element array containing the final quaternion (q03,q13,q23,q33) \n",
    " \n",
    "    \"\"\"\n",
    "    # Extract the values from Q0\n",
    "    w0 = Q0[0]\n",
    "    x0 = Q0[1]\n",
    "    y0 = Q0[2]\n",
    "    z0 = Q0[3]\n",
    "     \n",
    "    # Extract the values from Q1\n",
    "    w1 = Q1[0]\n",
    "    x1 = Q1[1]\n",
    "    y1 = Q1[2]\n",
    "    z1 = Q1[3]\n",
    "     \n",
    "    # Computer the product of the two quaternions, term by term\n",
    "    Q0Q1_w = w0 * w1 - x0 * x1 - y0 * y1 - z0 * z1\n",
    "    Q0Q1_x = w0 * x1 + x0 * w1 + y0 * z1 - z0 * y1\n",
    "    Q0Q1_y = w0 * y1 - x0 * z1 + y0 * w1 + z0 * x1\n",
    "    Q0Q1_z = w0 * z1 + x0 * y1 - y0 * x1 + z0 * w1\n",
    "     \n",
    "    # Create a 4 element array containing the final quaternion\n",
    "    final_quaternion = np.array([Q0Q1_w, Q0Q1_x, Q0Q1_y, Q0Q1_z])\n",
    "     \n",
    "    # Return a 4 element array containing the final quaternion (q02,q12,q22,q32) \n",
    "    return final_quaternion\n",
    "\n",
    "#Los cuaterniones pueden ser aleatorios   Q = np.random.rand(4) \n",
    "\n",
    "#primer cuaternion Q0 de eje n0 unitario y puro\n",
    "#n0=[cos(2*alfa1)*cos(2*chi1),sin(2*alfa1)*cos(2*chi1),sin(2*chi1)]\n",
    "alfa1=np.pi\n",
    "n0=[cos(2*alfa1),sin(2*alfa1),0]\n",
    "Q0 =[cos(delta1/2),n0[0]*sin(delta1/2),n0[1]*sin(delta1/2),n0[2]*sin(delta1/2)]\n",
    "\n",
    "#segundo cuaternion Q0 de eje n0 unitario y puro\n",
    "n1=[cos(2*alfa2),sin(2*alfa2),0]\n",
    "Q1 =[cos(delta2/2),n1[0]*sin(delta2/2),n1[1]*sin(delta2/2),n1[2]*sin(delta2/2)]\n",
    "\n",
    "#n0=[cos(2*alfa1),sin(2*alfa1),0]\n",
    "#Q0 =[cos(delta1/2),n0[0]*sin(delta1/2),n0[1]*sin(delta1/2),n0[2]*sin(delta1/2)]\n",
    "\n",
    "#n1=[cos(2*alfa2),sin(2*alfa2),0]\n",
    "#Q1 =[cos(delta2/2),n1[0]*sin(delta2/2),n1[1]*sin(delta2/2),n1[2]*sin(delta2/2)]\n",
    "\n",
    "\n",
    "#Producto de quaterniones\n",
    "Q = quaternion_multiply(Q0, Q1)\n",
    "\n",
    "print(\"{0} x {1} = {2}\".format(Q0, Q1, Q))"
   ]
  },
  {
   "cell_type": "code",
   "execution_count": 16,
   "metadata": {},
   "outputs": [
    {
     "data": {
      "text/plain": [
       "array([2.44929359829471e-16*sin(2*α₂)*sin(δ₁/2)*sin(δ₂/2) - 1.0*sin(δ₁/2)*sin(δ₂/2)*cos(2*α₂) + cos(δ₁/2)*cos(δ₂/2),\n",
       "       1.0*sin(δ₁/2)*cos(δ₂/2) + sin(δ₂/2)*cos(2*α₂)*cos(δ₁/2),\n",
       "       sin(2*α₂)*sin(δ₂/2)*cos(δ₁/2) - 2.44929359829471e-16*sin(δ₁/2)*cos(δ₂/2),\n",
       "       1.0*sin(2*α₂)*sin(δ₁/2)*sin(δ₂/2) + 2.44929359829471e-16*sin(δ₁/2)*sin(δ₂/2)*cos(2*α₂)],\n",
       "      dtype=object)"
      ]
     },
     "execution_count": 16,
     "metadata": {},
     "output_type": "execute_result"
    }
   ],
   "source": [
    "Q"
   ]
  },
  {
   "cell_type": "code",
   "execution_count": 6,
   "metadata": {},
   "outputs": [
    {
     "data": {
      "text/latex": [
       "$\\displaystyle - \\sin{\\left(2 α₁ \\right)} \\sin{\\left(2 α₂ \\right)} \\sin{\\left(\\frac{δ₁}{2} \\right)} \\sin{\\left(\\frac{δ₂}{2} \\right)} - \\sin{\\left(\\frac{δ₁}{2} \\right)} \\sin{\\left(\\frac{δ₂}{2} \\right)} \\cos{\\left(2 α₁ \\right)} \\cos{\\left(2 α₂ \\right)} + \\cos{\\left(\\frac{δ₁}{2} \\right)} \\cos{\\left(\\frac{δ₂}{2} \\right)}$"
      ],
      "text/plain": [
       "                         ⎛δ₁⎞    ⎛δ₂⎞      ⎛δ₁⎞    ⎛δ₂⎞                       \n",
       "- sin(2⋅α₁)⋅sin(2⋅α₂)⋅sin⎜──⎟⋅sin⎜──⎟ - sin⎜──⎟⋅sin⎜──⎟⋅cos(2⋅α₁)⋅cos(2⋅α₂) + \n",
       "                         ⎝2 ⎠    ⎝2 ⎠      ⎝2 ⎠    ⎝2 ⎠                       \n",
       "\n",
       "   ⎛δ₁⎞    ⎛δ₂⎞\n",
       "cos⎜──⎟⋅cos⎜──⎟\n",
       "   ⎝2 ⎠    ⎝2 ⎠"
      ]
     },
     "execution_count": 6,
     "metadata": {},
     "output_type": "execute_result"
    }
   ],
   "source": [
    "Q[0] - a = 0"
   ]
  },
  {
   "cell_type": "code",
   "execution_count": 4,
   "metadata": {},
   "outputs": [
    {
     "data": {
      "text/latex": [
       "$\\displaystyle \\sin{\\left(\\frac{δ₁}{2} \\right)} \\cos{\\left(2 α₁ \\right)} \\cos{\\left(\\frac{δ₂}{2} \\right)} + \\sin{\\left(\\frac{δ₂}{2} \\right)} \\cos{\\left(2 α₂ \\right)} \\cos{\\left(\\frac{δ₁}{2} \\right)}$"
      ],
      "text/plain": [
       "   ⎛δ₁⎞              ⎛δ₂⎞      ⎛δ₂⎞              ⎛δ₁⎞\n",
       "sin⎜──⎟⋅cos(2⋅α₁)⋅cos⎜──⎟ + sin⎜──⎟⋅cos(2⋅α₂)⋅cos⎜──⎟\n",
       "   ⎝2 ⎠              ⎝2 ⎠      ⎝2 ⎠              ⎝2 ⎠"
      ]
     },
     "execution_count": 4,
     "metadata": {},
     "output_type": "execute_result"
    }
   ],
   "source": [
    "Q[1]"
   ]
  },
  {
   "cell_type": "code",
   "execution_count": 7,
   "metadata": {},
   "outputs": [
    {
     "data": {
      "text/latex": [
       "$\\displaystyle \\sin{\\left(2 α₁ \\right)} \\sin{\\left(\\frac{δ₁}{2} \\right)} \\cos{\\left(\\frac{δ₂}{2} \\right)} + \\sin{\\left(2 α₂ \\right)} \\sin{\\left(\\frac{δ₂}{2} \\right)} \\cos{\\left(\\frac{δ₁}{2} \\right)}$"
      ],
      "text/plain": [
       "             ⎛δ₁⎞    ⎛δ₂⎞                ⎛δ₂⎞    ⎛δ₁⎞\n",
       "sin(2⋅α₁)⋅sin⎜──⎟⋅cos⎜──⎟ + sin(2⋅α₂)⋅sin⎜──⎟⋅cos⎜──⎟\n",
       "             ⎝2 ⎠    ⎝2 ⎠                ⎝2 ⎠    ⎝2 ⎠"
      ]
     },
     "execution_count": 7,
     "metadata": {},
     "output_type": "execute_result"
    }
   ],
   "source": [
    "Q[2]"
   ]
  },
  {
   "cell_type": "code",
   "execution_count": 8,
   "metadata": {},
   "outputs": [
    {
     "data": {
      "text/latex": [
       "$\\displaystyle - \\sin{\\left(2 α₁ \\right)} \\sin{\\left(\\frac{δ₁}{2} \\right)} \\sin{\\left(\\frac{δ₂}{2} \\right)} \\cos{\\left(2 α₂ \\right)} + \\sin{\\left(2 α₂ \\right)} \\sin{\\left(\\frac{δ₁}{2} \\right)} \\sin{\\left(\\frac{δ₂}{2} \\right)} \\cos{\\left(2 α₁ \\right)}$"
      ],
      "text/plain": [
       "               ⎛δ₁⎞    ⎛δ₂⎞                          ⎛δ₁⎞    ⎛δ₂⎞          \n",
       "- sin(2⋅α₁)⋅sin⎜──⎟⋅sin⎜──⎟⋅cos(2⋅α₂) + sin(2⋅α₂)⋅sin⎜──⎟⋅sin⎜──⎟⋅cos(2⋅α₁)\n",
       "               ⎝2 ⎠    ⎝2 ⎠                          ⎝2 ⎠    ⎝2 ⎠          "
      ]
     },
     "execution_count": 8,
     "metadata": {},
     "output_type": "execute_result"
    }
   ],
   "source": [
    "Q[3]"
   ]
  },
  {
   "cell_type": "code",
   "execution_count": 14,
   "metadata": {},
   "outputs": [
    {
     "ename": "SyntaxError",
     "evalue": "invalid character in identifier (<lambdifygenerated-3>, line 2)",
     "output_type": "error",
     "traceback": [
      "Traceback \u001b[1;36m(most recent call last)\u001b[0m:\n",
      "  File \u001b[0;32m\"C:\\Users\\USUARIO\\anaconda3\\lib\\site-packages\\IPython\\core\\interactiveshell.py\"\u001b[0m, line \u001b[0;32m3457\u001b[0m, in \u001b[0;35mrun_code\u001b[0m\n    exec(code_obj, self.user_global_ns, self.user_ns)\n",
      "  File \u001b[0;32m\"C:\\Users\\USUARIO\\AppData\\Local\\Temp\\ipykernel_2628\\3337410371.py\"\u001b[0m, line \u001b[0;32m2\u001b[0m, in \u001b[0;35m<module>\u001b[0m\n    nsolve([Q[0] - a, Q[1] -b, Q[2]- c, Q[3] - d], [alfa1, alfa2], [0,0])\n",
      "  File \u001b[0;32m\"C:\\Users\\USUARIO\\anaconda3\\lib\\site-packages\\sympy\\utilities\\decorator.py\"\u001b[0m, line \u001b[0;32m88\u001b[0m, in \u001b[0;35mfunc_wrapper\u001b[0m\n    return func(*args, **kwargs)\n",
      "  File \u001b[0;32m\"C:\\Users\\USUARIO\\anaconda3\\lib\\site-packages\\sympy\\solvers\\solvers.py\"\u001b[0m, line \u001b[0;32m2997\u001b[0m, in \u001b[0;35mnsolve\u001b[0m\n    f = lambdify(fargs, f.T, modules)\n",
      "\u001b[1;36m  File \u001b[1;32m\"C:\\Users\\USUARIO\\anaconda3\\lib\\site-packages\\sympy\\utilities\\lambdify.py\"\u001b[1;36m, line \u001b[1;32m888\u001b[1;36m, in \u001b[1;35mlambdify\u001b[1;36m\u001b[0m\n\u001b[1;33m    c = compile(funcstr, filename, 'exec')\u001b[0m\n",
      "\u001b[1;36m  File \u001b[1;32m\"<lambdifygenerated-3>\"\u001b[1;36m, line \u001b[1;32m2\u001b[0m\n\u001b[1;33m    return ImmutableDenseMatrix([[-a - sin(2*_Dummy_26)*sin(2*Dummy_27)*sin((mpf(1)/mpf(2))*δ₁)*sin((mpf(1)/mpf(2))*δ₂) - sin((mpf(1)/mpf(2))*δ₁)*sin((mpf(1)/mpf(2))*δ₂)*cos(2*_Dummy_26)*cos(2*Dummy_27) + cos((mpf(1)/mpf(2))*δ₁)*cos((mpf(1)/mpf(2))*δ₂)], [-b + sin((mpf(1)/mpf(2))*δ₁)*cos(2*Dummy_27)*cos((mpf(1)/mpf(2))*δ₂) + sin((mpf(1)/mpf(2))*δ₂)*cos(2*_Dummy_26)*cos((mpf(1)/mpf(2))*δ₁)], [-c + sin(2*_Dummy_26)*sin((mpf(1)/mpf(2))*δ₂)*cos((mpf(1)/mpf(2))*δ₁) + sin(2*Dummy_27)*sin((mpf(1)/mpf(2))*δ₁)*cos((mpf(1)/mpf(2))*δ₂)], [-d + sin(2*_Dummy_26)*sin((mpf(1)/mpf(2))*δ₁)*sin((mpf(1)/mpf(2))*δ₂)*cos(2*Dummy_27) - sin(2*Dummy_27)*sin((mpf(1)/mpf(2))*δ₁)*sin((mpf(1)/mpf(2))*δ₂)*cos(2*_Dummy_26)]])\u001b[0m\n\u001b[1;37m                                                                                             ^\u001b[0m\n\u001b[1;31mSyntaxError\u001b[0m\u001b[1;31m:\u001b[0m invalid character in identifier\n"
     ]
    }
   ],
   "source": [
    "a,b,c,d = symbols('a b c d')\n",
    "nsolve([Q[0] - a, Q[1] -b, Q[2]- c, Q[3] - d], [alfa1, alfa2], [0,0])"
   ]
  },
  {
   "cell_type": "code",
   "execution_count": null,
   "metadata": {},
   "outputs": [],
   "source": []
  }
 ],
 "metadata": {
  "kernelspec": {
   "display_name": "Python 3 (ipykernel)",
   "language": "python",
   "name": "python3"
  },
  "language_info": {
   "codemirror_mode": {
    "name": "ipython",
    "version": 3
   },
   "file_extension": ".py",
   "mimetype": "text/x-python",
   "name": "python",
   "nbconvert_exporter": "python",
   "pygments_lexer": "ipython3",
   "version": "3.8.16"
  }
 },
 "nbformat": 4,
 "nbformat_minor": 2
}
